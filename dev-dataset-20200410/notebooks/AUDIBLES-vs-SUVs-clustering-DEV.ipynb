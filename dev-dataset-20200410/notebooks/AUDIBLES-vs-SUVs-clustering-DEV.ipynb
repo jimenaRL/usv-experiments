{
 "cells": [
  {
   "cell_type": "code",
   "execution_count": 5,
   "metadata": {},
   "outputs": [
    {
     "data": {
      "application/javascript": [
       "IPython.OutputArea.prototype._should_scroll = function(lines) {\n",
       "    return false;\n",
       "}\n"
      ],
      "text/plain": [
       "<IPython.core.display.Javascript object>"
      ]
     },
     "metadata": {},
     "output_type": "display_data"
    }
   ],
   "source": [
    "%%javascript\n",
    "IPython.OutputArea.prototype._should_scroll = function(lines) {\n",
    "    return false;\n",
    "}"
   ]
  },
  {
   "cell_type": "code",
   "execution_count": 6,
   "metadata": {},
   "outputs": [],
   "source": [
    "import numpy as np\n",
    "import pandas as pd\n",
    "\n",
    "from sklearn import metrics\n",
    "from sklearn import decomposition\n",
    "from sklearn.cluster import (KMeans, AgglomerativeClustering)\n",
    "\n",
    "SEED = 666\n",
    "\n",
    "import matplotlib\n",
    "import matplotlib.pyplot as plt\n",
    "from mpl_toolkits.mplot3d import axes3d, Axes3D\n",
    "import seaborn as sns\n",
    "sns.set_style('white')\n",
    "\n",
    "from audiovocana.dataset import get_dataset\n",
    "from audiovocana.preprocessing import get_dataframe\n",
    "\n",
    "PLOT = True\n",
    "RESULTS_FOLDER = \"/home/utilisateur/Desktop/palomars/usv-experiments/dev-dataset-20200410/results\""
   ]
  },
  {
   "cell_type": "code",
   "execution_count": 7,
   "metadata": {},
   "outputs": [],
   "source": [
    "csv_path = '/home/utilisateur/Desktop/palomars/data/dev/dataset.csv'\n",
    "cache_folder = '/home/utilisateur/Desktop/palomars/cache/dev_dataset'\n",
    "xlsx_folder = \"/home/utilisateur/Desktop/palomars/data/dev\"\n",
    "audio_folder = \"/home/utilisateur/Desktop/palomars/data/dev\""
   ]
  },
  {
   "cell_type": "code",
   "execution_count": 8,
   "metadata": {},
   "outputs": [
    {
     "name": "stdout",
     "output_type": "stream",
     "text": [
      "Reading csv from /home/utilisateur/Desktop/palomars/data/dev/dataset.csv.\n",
      "Found 377 events from 3 different experiments and 9 different recordings\n"
     ]
    },
    {
     "data": {
      "text/html": [
       "<div>\n",
       "<style scoped>\n",
       "    .dataframe tbody tr th:only-of-type {\n",
       "        vertical-align: middle;\n",
       "    }\n",
       "\n",
       "    .dataframe tbody tr th {\n",
       "        vertical-align: top;\n",
       "    }\n",
       "\n",
       "    .dataframe thead th {\n",
       "        text-align: right;\n",
       "    }\n",
       "</style>\n",
       "<table border=\"1\" class=\"dataframe\">\n",
       "  <thead>\n",
       "    <tr style=\"text-align: right;\">\n",
       "      <th></th>\n",
       "      <th>t0</th>\n",
       "      <th>t1</th>\n",
       "      <th>duration</th>\n",
       "      <th>event</th>\n",
       "      <th>postnatalday</th>\n",
       "      <th>vocalization</th>\n",
       "      <th>nest</th>\n",
       "      <th>year</th>\n",
       "      <th>audio_path</th>\n",
       "      <th>experiment</th>\n",
       "      <th>recording</th>\n",
       "      <th>mother</th>\n",
       "    </tr>\n",
       "  </thead>\n",
       "  <tbody>\n",
       "    <tr>\n",
       "      <th>0</th>\n",
       "      <td>9.7730</td>\n",
       "      <td>9.7986</td>\n",
       "      <td>0.0256</td>\n",
       "      <td>1</td>\n",
       "      <td>9</td>\n",
       "      <td>2</td>\n",
       "      <td>E1</td>\n",
       "      <td>17</td>\n",
       "      <td>/home/utilisateur/Desktop/palomars/data/dev/T0...</td>\n",
       "      <td>17N1EP09</td>\n",
       "      <td>492</td>\n",
       "      <td>E</td>\n",
       "    </tr>\n",
       "    <tr>\n",
       "      <th>1</th>\n",
       "      <td>9.9717</td>\n",
       "      <td>9.9927</td>\n",
       "      <td>0.0210</td>\n",
       "      <td>2</td>\n",
       "      <td>9</td>\n",
       "      <td>2</td>\n",
       "      <td>E1</td>\n",
       "      <td>17</td>\n",
       "      <td>/home/utilisateur/Desktop/palomars/data/dev/T0...</td>\n",
       "      <td>17N1EP09</td>\n",
       "      <td>492</td>\n",
       "      <td>E</td>\n",
       "    </tr>\n",
       "    <tr>\n",
       "      <th>2</th>\n",
       "      <td>10.0075</td>\n",
       "      <td>10.0198</td>\n",
       "      <td>0.0123</td>\n",
       "      <td>3</td>\n",
       "      <td>9</td>\n",
       "      <td>2</td>\n",
       "      <td>E1</td>\n",
       "      <td>17</td>\n",
       "      <td>/home/utilisateur/Desktop/palomars/data/dev/T0...</td>\n",
       "      <td>17N1EP09</td>\n",
       "      <td>492</td>\n",
       "      <td>E</td>\n",
       "    </tr>\n",
       "    <tr>\n",
       "      <th>3</th>\n",
       "      <td>10.1616</td>\n",
       "      <td>10.1667</td>\n",
       "      <td>0.0051</td>\n",
       "      <td>4</td>\n",
       "      <td>9</td>\n",
       "      <td>2</td>\n",
       "      <td>E1</td>\n",
       "      <td>17</td>\n",
       "      <td>/home/utilisateur/Desktop/palomars/data/dev/T0...</td>\n",
       "      <td>17N1EP09</td>\n",
       "      <td>492</td>\n",
       "      <td>E</td>\n",
       "    </tr>\n",
       "    <tr>\n",
       "      <th>4</th>\n",
       "      <td>10.3127</td>\n",
       "      <td>10.3854</td>\n",
       "      <td>0.0727</td>\n",
       "      <td>5</td>\n",
       "      <td>9</td>\n",
       "      <td>2</td>\n",
       "      <td>E1</td>\n",
       "      <td>17</td>\n",
       "      <td>/home/utilisateur/Desktop/palomars/data/dev/T0...</td>\n",
       "      <td>17N1EP09</td>\n",
       "      <td>492</td>\n",
       "      <td>E</td>\n",
       "    </tr>\n",
       "  </tbody>\n",
       "</table>\n",
       "</div>"
      ],
      "text/plain": [
       "        t0       t1  duration  event  postnatalday  vocalization nest  year  \\\n",
       "0   9.7730   9.7986    0.0256      1             9             2   E1    17   \n",
       "1   9.9717   9.9927    0.0210      2             9             2   E1    17   \n",
       "2  10.0075  10.0198    0.0123      3             9             2   E1    17   \n",
       "3  10.1616  10.1667    0.0051      4             9             2   E1    17   \n",
       "4  10.3127  10.3854    0.0727      5             9             2   E1    17   \n",
       "\n",
       "                                          audio_path experiment  recording  \\\n",
       "0  /home/utilisateur/Desktop/palomars/data/dev/T0...   17N1EP09        492   \n",
       "1  /home/utilisateur/Desktop/palomars/data/dev/T0...   17N1EP09        492   \n",
       "2  /home/utilisateur/Desktop/palomars/data/dev/T0...   17N1EP09        492   \n",
       "3  /home/utilisateur/Desktop/palomars/data/dev/T0...   17N1EP09        492   \n",
       "4  /home/utilisateur/Desktop/palomars/data/dev/T0...   17N1EP09        492   \n",
       "\n",
       "  mother  \n",
       "0      E  \n",
       "1      E  \n",
       "2      E  \n",
       "3      E  \n",
       "4      E  "
      ]
     },
     "execution_count": 8,
     "metadata": {},
     "output_type": "execute_result"
    }
   ],
   "source": [
    "df = get_dataframe(\n",
    "    kind='dev',\n",
    "    xlsx_folder=xlsx_folder,\n",
    "    audio_folder=audio_folder,\n",
    "    csv_path=csv_path,\n",
    "    recompute=False,\n",
    "    save=False\n",
    ")\n",
    "df.head()"
   ]
  },
  {
   "cell_type": "code",
   "execution_count": 9,
   "metadata": {},
   "outputs": [],
   "source": [
    "dataset = get_dataset(\n",
    "    df=df,\n",
    "    cache_folder=cache_folder,\n",
    "    shuffle=True,\n",
    "    recompute=False\n",
    ")"
   ]
  },
  {
   "cell_type": "code",
   "execution_count": 10,
   "metadata": {},
   "outputs": [],
   "source": [
    "y = np.array([sample['vocalization'] for sample in iter(dataset)])"
   ]
  },
  {
   "cell_type": "code",
   "execution_count": 11,
   "metadata": {},
   "outputs": [],
   "source": [
    "def compute_clustering_metrics(y, y_pred):\n",
    "    \n",
    "    how_clustered = np.argmax([\n",
    "    metrics.accuracy_score((y + 2) % 2, y_pred),\n",
    "    metrics.accuracy_score((y-1), y_pred)])\n",
    "\n",
    "    if how_clustered == 0:\n",
    "        y_gt = (y + 2) % 2\n",
    "    else:\n",
    "        y_gt = y-1\n",
    "    \n",
    "    ari = metrics.adjusted_rand_score(y_gt, y_pred)\n",
    "    ami = metrics.adjusted_mutual_info_score(y_gt, y_pred)\n",
    "    acc = metrics.balanced_accuracy_score(y_gt, y_pred)\n",
    "    \n",
    "    clustering_metrics = {\n",
    "        'feat': feat,\n",
    "        'ARI': ari,\n",
    "        'AMI': ami,\n",
    "        'BACC': acc,\n",
    "    }\n",
    "    \n",
    "    return y_gt, clustering_metrics"
   ]
  },
  {
   "cell_type": "code",
   "execution_count": 12,
   "metadata": {},
   "outputs": [],
   "source": [
    "results = []"
   ]
  },
  {
   "cell_type": "markdown",
   "metadata": {},
   "source": [
    "**Naive k-means**"
   ]
  },
  {
   "cell_type": "code",
   "execution_count": 13,
   "metadata": {},
   "outputs": [
    {
     "data": {
      "image/png": "[encoded data removed]",
      "text/plain": [
       "<Figure size 720x720 with 1 Axes>"
      ]
     },
     "metadata": {},
     "output_type": "display_data"
    }
   ],
   "source": [
    "feat = 'mean_mfcc' \n",
    "X = np.array([sample[feat] for sample in iter(dataset)]) \n",
    "\n",
    "\n",
    "y_clusters = KMeans(n_clusters=2, random_state=SEED).fit_predict(X)\n",
    "\n",
    "y_gt, mtcs = compute_clustering_metrics(y, y_clusters)\n",
    "\n",
    "mtcs['method'] = 'NaiveKmeans'\n",
    "results.append(mtcs)\n",
    "\n",
    "if PLOT:\n",
    "    X_reduced = X[:, :2]\n",
    "    X_wrong_cluster = X_reduced[y_gt != y_clusters]\n",
    "\n",
    "    title = f\"2 first components {feat} \\n\" \\\n",
    "        + f\"ARI = {'{:.2f}'.format(mtcs['ARI'])} \" \\\n",
    "        + f\"AMI = {'{:.2f}'.format(mtcs['AMI'])} \" \\\n",
    "        + f\"BAL_ACC = {'{:.2f}'.format(mtcs['BACC'])}\"\n",
    "\n",
    "    fig, ax = plt.subplots(figsize=(10, 10))\n",
    "\n",
    "    ax.scatter(X_reduced[y == 1][:, 0], X_reduced[y == 1][:, 1],\n",
    "               c='tab:blue', s=100, marker='o', label='audible', alpha=0.5)\n",
    "\n",
    "    ax.scatter(X_reduced[y == 2][:, 0], X_reduced[y == 2][:, 1],\n",
    "               c='tab:orange', s=100, marker='o', label='USV', alpha=0.5)\n",
    "\n",
    "    ax.scatter(X_wrong_cluster[:, 0], X_wrong_cluster[:, 1],\n",
    "               c='black', marker='x', label='wrong cluster', alpha=0.5)\n",
    "\n",
    "    ax.legend()\n",
    "    ax.grid(True)\n",
    "    plt.title(title)\n",
    "    plt.show()"
   ]
  },
  {
   "cell_type": "markdown",
   "metadata": {},
   "source": [
    "## **Reduce features dimension to 2 with PCA and whitening, then apply k-means algorithme on the 2 dimensions that better explain data.**"
   ]
  },
  {
   "cell_type": "code",
   "execution_count": 14,
   "metadata": {},
   "outputs": [
    {
     "data": {
      "image/png": "[encoded data removed]",
      "text/plain": [
       "<Figure size 720x720 with 1 Axes>"
      ]
     },
     "metadata": {},
     "output_type": "display_data"
    }
   ],
   "source": [
    "# FEATS = ['max_mfcc', 'mean_mfcc', 'mean_stft', 'max_stft', 'mean_mel', 'max_mel']\n",
    "FEATS = ['max_mfcc']\n",
    "\n",
    "for feat in FEATS: \n",
    "\n",
    "    X = np.array([sample[feat] for sample in iter(dataset)]) \n",
    "\n",
    "    whiten = True if feat[-4:] == 'mfcc' else False\n",
    "        \n",
    "    pca = decomposition.PCA(whiten=whiten)\n",
    "    pca.fit(X)\n",
    "    # print(pca.explained_variance_) \n",
    "    pca.n_components = 2\n",
    "    X_reduced = pca.fit_transform(X)\n",
    "\n",
    "    y_clusters = KMeans(n_clusters=2, random_state=SEED).fit_predict(X_reduced)\n",
    "\n",
    "    y_gt, mtcs = compute_clustering_metrics(y, y_clusters)\n",
    "\n",
    "    mtcs['method'] = 'PCA+Kmeans'\n",
    "    results.append(mtcs)\n",
    "    \n",
    "    if PLOT:\n",
    "        X_wrong_cluster = X_reduced[y_gt != y_clusters]\n",
    "\n",
    "        title = f\"2 first components {feat} \\n\" \\\n",
    "            + f\"ARI = {'{:.2f}'.format(mtcs['ARI'])} \" \\\n",
    "            + f\"AMI = {'{:.2f}'.format(mtcs['AMI'])} \" \\\n",
    "            + f\"BAL_ACC = {'{:.2f}'.format(mtcs['BACC'])}\"\n",
    "\n",
    "        fig, ax = plt.subplots(figsize=(10, 10))\n",
    "\n",
    "        ax.scatter(X_reduced[y == 1][:, 0], X_reduced[y == 1][:, 1],\n",
    "                   c='tab:blue', s=100, marker='o', label='audible', alpha=0.5)\n",
    "\n",
    "        ax.scatter(X_reduced[y == 2][:, 0], X_reduced[y == 2][:, 1],\n",
    "                   c='tab:orange', s=100, marker='o', label='USV', alpha=0.5)\n",
    "\n",
    "        ax.scatter(X_wrong_cluster[:, 0], X_wrong_cluster[:, 1],\n",
    "                   c='black', marker='x', label='wrong cluster', alpha=0.5)\n",
    "\n",
    "        ax.legend()\n",
    "        ax.grid(True)\n",
    "        plt.title(title)\n",
    "        plt.show()"
   ]
  },
  {
   "cell_type": "markdown",
   "metadata": {},
   "source": [
    "## **Apply hierarchical clustering algorithme with 2 clusters.**"
   ]
  },
  {
   "cell_type": "code",
   "execution_count": 15,
   "metadata": {},
   "outputs": [],
   "source": [
    "# https://docs.scipy.org/doc/scipy/reference/spatial.distance.html\n",
    "AFFINITY = \"euclidean\"  # \"euclidean\", \"cosine\", \"sqeuclidean\", \"cityblock\"\n",
    "LINKAGE = \"ward\"  #  \"ward\", \"complete\", \"average\", \"single\"\n",
    "\n",
    "for feat in FEATS: \n",
    "\n",
    "    X = np.array([sample[feat] for sample in iter(dataset)]) \n",
    "        \n",
    "    clustering = AgglomerativeClustering(\n",
    "        n_clusters=2,\n",
    "        affinity=AFFINITY,\n",
    "        memory=None,\n",
    "        connectivity=None,\n",
    "        compute_full_tree='auto',\n",
    "        linkage=LINKAGE,\n",
    "        distance_threshold=None).fit(X)\n",
    "\n",
    "    y_clusters = clustering.labels_\n",
    "\n",
    "    y_gt, mtcs = compute_clustering_metrics(y, y_clusters)\n",
    "\n",
    "    mtcs['method'] = 'AgglomerativeClustering'\n",
    "    results.append(mtcs)\n",
    "    "
   ]
  },
  {
   "cell_type": "markdown",
   "metadata": {},
   "source": [
    "## **Metrics**"
   ]
  },
  {
   "cell_type": "code",
   "execution_count": 16,
   "metadata": {},
   "outputs": [],
   "source": [
    "df_results = pd.DataFrame.from_records(results).sort_values(by='ARI', ascending=False).rename({\n",
    "    'feat': 'Audio Feature',\n",
    "    'BACC': 'Balanced Accuracy',\n",
    "    'ARI': 'Adjusted Rand Index',\n",
    "    'AMI': 'Adjusted Mutual Inforation',\n",
    "}, axis=1)"
   ]
  },
  {
   "cell_type": "code",
   "execution_count": 17,
   "metadata": {},
   "outputs": [
    {
     "data": {
      "text/html": [
       "<div>\n",
       "<style scoped>\n",
       "    .dataframe tbody tr th:only-of-type {\n",
       "        vertical-align: middle;\n",
       "    }\n",
       "\n",
       "    .dataframe tbody tr th {\n",
       "        vertical-align: top;\n",
       "    }\n",
       "\n",
       "    .dataframe thead th {\n",
       "        text-align: right;\n",
       "    }\n",
       "</style>\n",
       "<table border=\"1\" class=\"dataframe\">\n",
       "  <thead>\n",
       "    <tr style=\"text-align: right;\">\n",
       "      <th></th>\n",
       "      <th>Audio Feature</th>\n",
       "      <th>Adjusted Rand Index</th>\n",
       "      <th>Adjusted Mutual Inforation</th>\n",
       "      <th>Balanced Accuracy</th>\n",
       "      <th>method</th>\n",
       "    </tr>\n",
       "  </thead>\n",
       "  <tbody>\n",
       "    <tr>\n",
       "      <th>1</th>\n",
       "      <td>max_mfcc</td>\n",
       "      <td>0.840818</td>\n",
       "      <td>0.751605</td>\n",
       "      <td>0.949943</td>\n",
       "      <td>PCA+Kmeans</td>\n",
       "    </tr>\n",
       "    <tr>\n",
       "      <th>2</th>\n",
       "      <td>max_mfcc</td>\n",
       "      <td>0.694342</td>\n",
       "      <td>0.605844</td>\n",
       "      <td>0.895595</td>\n",
       "      <td>AgglomerativeClustering</td>\n",
       "    </tr>\n",
       "    <tr>\n",
       "      <th>0</th>\n",
       "      <td>mean_mfcc</td>\n",
       "      <td>0.560369</td>\n",
       "      <td>0.491493</td>\n",
       "      <td>0.841247</td>\n",
       "      <td>NaiveKmeans</td>\n",
       "    </tr>\n",
       "  </tbody>\n",
       "</table>\n",
       "</div>"
      ],
      "text/plain": [
       "  Audio Feature  Adjusted Rand Index  Adjusted Mutual Inforation  \\\n",
       "1      max_mfcc             0.840818                    0.751605   \n",
       "2      max_mfcc             0.694342                    0.605844   \n",
       "0     mean_mfcc             0.560369                    0.491493   \n",
       "\n",
       "   Balanced Accuracy                   method  \n",
       "1           0.949943               PCA+Kmeans  \n",
       "2           0.895595  AgglomerativeClustering  \n",
       "0           0.841247              NaiveKmeans  "
      ]
     },
     "execution_count": 17,
     "metadata": {},
     "output_type": "execute_result"
    }
   ],
   "source": [
    "df_results"
   ]
  },
  {
   "cell_type": "code",
   "execution_count": 18,
   "metadata": {},
   "outputs": [],
   "source": [
    "# df_results.to_csv(os.path.join(RESULTS_FOLDER, \"metrics.csv\"), index=False)"
   ]
  }
 ],
 "metadata": {
  "kernelspec": {
   "display_name": "Python 3",
   "language": "python",
   "name": "python3"
  },
  "language_info": {
   "codemirror_mode": {
    "name": "ipython",
    "version": 3
   },
   "file_extension": ".py",
   "mimetype": "text/x-python",
   "name": "python",
   "nbconvert_exporter": "python",
   "pygments_lexer": "ipython3",
   "version": "3.8.2"
  }
 },
 "nbformat": 4,
 "nbformat_minor": 4
}
