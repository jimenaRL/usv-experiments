{
 "cells": [
  {
   "cell_type": "code",
   "execution_count": 1,
   "metadata": {},
   "outputs": [
    {
     "data": {
      "application/javascript": [
       "IPython.OutputArea.prototype._should_scroll = function(lines) {\n",
       "    return false;\n",
       "}\n"
      ],
      "text/plain": [
       "<IPython.core.display.Javascript object>"
      ]
     },
     "metadata": {},
     "output_type": "display_data"
    }
   ],
   "source": [
    "%%javascript\n",
    "IPython.OutputArea.prototype._should_scroll = function(lines) {\n",
    "    return false;\n",
    "}"
   ]
  },
  {
   "cell_type": "code",
   "execution_count": 2,
   "metadata": {},
   "outputs": [],
   "source": [
    "#%matplotlib notebook"
   ]
  },
  {
   "cell_type": "code",
   "execution_count": 24,
   "metadata": {},
   "outputs": [],
   "source": [
    "import os\n",
    "from tqdm import tqdm\n",
    "\n",
    "import scipy.cluster as sc\n",
    "import numpy as np\n",
    "import pandas as pd\n",
    "\n",
    "from sklearn import metrics\n",
    "from sklearn import decomposition\n",
    "from sklearn.cluster import (KMeans, AgglomerativeClustering)\n",
    "\n",
    "SEED = 666\n",
    "\n",
    "import matplotlib\n",
    "import matplotlib.pyplot as plt\n",
    "import seaborn as sns\n",
    "from matplotlib.patches import Patch\n",
    "from matplotlib.lines import Line2D\n",
    "\n",
    "sns.set_style('white')\n",
    "\n",
    "from audiovocana.conf import (FFTFREQS, MELFREQS)\n",
    "from audiovocana.dataset import get_dataset\n",
    "\n",
    "PLOT = True\n",
    "RESULTS_FOLDER = \"/home/utilisateur/Desktop/palomars/ultra-sonic-vocalizations/experiments/full-dataset/results\""
   ]
  },
  {
   "cell_type": "code",
   "execution_count": 4,
   "metadata": {},
   "outputs": [],
   "source": [
    "csv_path = '/home/utilisateur/Desktop/palomars/data/dev/dataset.csv'\n",
    "cache_folder = '/home/utilisateur/Desktop/palomars/cache/dev_dataset'\n",
    "xlsx_folder = \"/home/utilisateur/Desktop/palomars/data/dev\"\n",
    "audio_folder = \"/home/utilisateur/Desktop/palomars/data/dev\""
   ]
  },
  {
   "cell_type": "code",
   "execution_count": 5,
   "metadata": {},
   "outputs": [
    {
     "name": "stdout",
     "output_type": "stream",
     "text": [
      "Reading csv from /home/utilisateur/Desktop/palomars/data/dev/dataset.csv.\n",
      "Found 377 events from 3 different experiments and 9 different recordings\n"
     ]
    }
   ],
   "source": [
    "dataset = get_dataset(\n",
    "    csv_path=csv_path,\n",
    "    cache_folder=cache_folder,\n",
    "    shuffle=False,\n",
    "    recompute=False\n",
    ")"
   ]
  },
  {
   "cell_type": "code",
   "execution_count": 6,
   "metadata": {},
   "outputs": [],
   "source": [
    "vocs = np.array([sample['vocalization'] for sample in iter(dataset)])\n",
    "postnataldays = np.array([sample['postnatalday'].numpy() for sample in iter(dataset)])\n",
    "nests = np.array([sample['nest'].numpy() for sample in iter(dataset)])\n",
    "recordings = np.array([sample['recording'].numpy() for sample in iter(dataset)])\n",
    "\n",
    "dicc_vocs = {\n",
    "    1: 'tab:blue',\n",
    "    2: 'tab:orange'\n",
    "}\n",
    "colors_vocs = pd.DataFrame(vocs)[0].map(dicc_vocs)\n",
    "\n",
    "dicc_recordings = {\n",
    "    482: 'y',\n",
    "    494: 'g',\n",
    "    637: 'r'\n",
    "} \n",
    "colors_recordings = pd.DataFrame(recordings)[0].map(dicc_recordings)\n",
    "\n",
    "dicc_nests = {\n",
    "    1: 'c',\n",
    "    2: 'm'\n",
    "}\n",
    "colors_nest = pd.DataFrame(nests)[0].map(dicc_nests)\n",
    "\n",
    "dicc_pnds = dict(zip(set(postnataldays),sns.color_palette(\"Blues\", len(set(postnataldays)))))\n",
    "colors_pnds = pd.DataFrame(postnataldays)[0].map(dicc_pnds)\n",
    "\n",
    "colors = pd.concat([colors_vocs, colors_recordings, colors_nest, colors_pnds], axis=1)\n",
    "colors.columns = ['vocalization', 'recording', 'nest', 'postnatalday']"
   ]
  },
  {
   "cell_type": "code",
   "execution_count": 7,
   "metadata": {},
   "outputs": [
    {
     "data": {
      "text/plain": [
       "Text(0.5, 1.0, 'VOCALIZATION TYPE')"
      ]
     },
     "execution_count": 7,
     "metadata": {},
     "output_type": "execute_result"
    },
    {
     "data": {
      "image/png": "[encoded data removed]",
      "text/plain": [
       "<Figure size 144x144 with 1 Axes>"
      ]
     },
     "metadata": {},
     "output_type": "display_data"
    },
    {
     "data": {
      "image/png": "[encoded data removed]",
      "text/plain": [
       "<Figure size 144x144 with 1 Axes>"
      ]
     },
     "metadata": {},
     "output_type": "display_data"
    },
    {
     "data": {
      "image/png": "[encoded data removed]",
      "text/plain": [
       "<Figure size 144x144 with 1 Axes>"
      ]
     },
     "metadata": {},
     "output_type": "display_data"
    },
    {
     "data": {
      "image/png": "[encoded data removed]",
      "text/plain": [
       "<Figure size 144x144 with 1 Axes>"
      ]
     },
     "metadata": {},
     "output_type": "display_data"
    }
   ],
   "source": [
    "def plot_legend(colordicc, title):\n",
    "    legend_elements = [Patch(facecolor=c, edgecolor=c, label=l) for l, c in colordicc.items()]\n",
    "    fig, ax = plt.subplots(figsize=(2, 2))\n",
    "    ax.legend(handles=legend_elements, loc='center')\n",
    "    plt.title(title)\n",
    "    plt.axis('off')\n",
    "\n",
    "plot_legend(dicc_recordings, 'RECORDING')\n",
    "plot_legend(dicc_nests, 'NEST NUMBER')\n",
    "plot_legend(dicc_pnds, 'POSTNATAL DAY')\n",
    "\n",
    "\n",
    "legend_elements = [\n",
    "    Patch(facecolor='tab:blue', edgecolor='tab:blue', label='AUDIBLE'),\n",
    "    Patch(facecolor='tab:orange', edgecolor='tab:orange', label='USV')\n",
    "]\n",
    "fig, ax = plt.subplots(figsize=(2, 2))\n",
    "ax.legend(handles=legend_elements, loc='center')\n",
    "plt.axis('off')\n",
    "plt.title('VOCALIZATION TYPE')"
   ]
  },
  {
   "cell_type": "code",
   "execution_count": 8,
   "metadata": {},
   "outputs": [
    {
     "name": "stderr",
     "output_type": "stream",
     "text": [
      "122it [00:00, 1317.49it/s]\n"
     ]
    }
   ],
   "source": [
    "feats = dict()\n",
    "# FEATS =  ['max_mfcc', 'mean_mfcc', 'mean_stft', 'max_stft', 'mean_mel', 'max_mel']\n",
    "FEATS = ['max_mfcc']\n",
    "for feat in FEATS: \n",
    "    feats[feat] = np.array([sample[feat] for sample in tqdm(iter(dataset))])"
   ]
  },
  {
   "cell_type": "code",
   "execution_count": 9,
   "metadata": {},
   "outputs": [],
   "source": [
    "xlabels =  np.array([\n",
    "    str(sample['recording'].numpy())+'_'+str(sample['event'].numpy())\n",
    "    for sample in iter(dataset)\n",
    "])\n",
    "\n",
    "dicc_xlabels = dict(zip(set([x[:3] for x in  xlabels]),  sns.xkcd_palette( [\"amber\", \"greyish\", \"dusty purple\"]) ))"
   ]
  },
  {
   "cell_type": "code",
   "execution_count": 10,
   "metadata": {},
   "outputs": [],
   "source": [
    "def get_ylabels(name, num):\n",
    "    if name == 'stft':\n",
    "        return np.linspace(FFTFREQS[0], FFTFREQS[-1], num=num, dtype=np.int)\n",
    "    elif name == '_mel':\n",
    "        return np.linspace(MELFREQS[0], MELFREQS[-1], num=num, dtype=np.int)\n",
    "    elif name == 'mfcc':\n",
    "        return np.linspace(0, num, num=num, dtype=np.int)\n"
   ]
  },
  {
   "cell_type": "code",
   "execution_count": 12,
   "metadata": {},
   "outputs": [
    {
     "data": {
      "image/png": "[encoded data removed]",
      "text/plain": [
       "<Figure size 1152x576 with 4 Axes>"
      ]
     },
     "metadata": {},
     "output_type": "display_data"
    }
   ],
   "source": [
    "# https://docs.scipy.org/doc/scipy/reference/spatial.distance.html\n",
    "AFFINITY = \"euclidean\"  # \"euclidean\", \"cosine\", \"sqeuclidean\", \"cityblock\"\n",
    "LINKAGE = \"ward\"  #  \"ward\", \"complete\", \"average\", \"single\"\n",
    "# FEATS = ['max_mfcc', 'mean_mfcc', 'mean_stft', 'max_stft', 'mean_mel', 'max_mel']\n",
    "FEATS = ['max_mfcc']\n",
    "\n",
    "for feat in FEATS: \n",
    "    \n",
    "    g = sns.clustermap(\n",
    "        pd.DataFrame(feats[feat].T),\n",
    "        method=LINKAGE,\n",
    "        metric=AFFINITY,\n",
    "        standard_scale=None, # Either 0 (rows) or 1 (columns) or None\n",
    "        z_score=1, # Either 0 (rows) or 1 (columns) or None\n",
    "        row_cluster=False,\n",
    "        col_colors=colors,\n",
    "        center=None, # check what this is, looks different with 0\n",
    "        figsize=(16, 8),\n",
    "        cbar_pos=None,\n",
    "        xticklabels=1,\n",
    "        yticklabels=200)\n",
    "    \n",
    "    g.ax_heatmap.axes.set_xticklabels([\n",
    "       xlabels[int(x.get_text())]  for x in g.ax_heatmap.axes.get_xticklabels()\n",
    "    ])\n",
    "    \n",
    "    for tick in g.ax_heatmap.axes.xaxis.get_major_ticks():\n",
    "        tick.label.set_fontsize(8) \n",
    "        tick.label.set_rotation('vertical')\n",
    "        \n",
    "             \n",
    "    for tick_label in g.ax_heatmap.axes.get_xticklabels():\n",
    "        tick_text = tick_label.get_text()\n",
    "        tick_label.set_color(dicc_recordings[int(tick_text[:3])])\n",
    "    \n",
    "\n",
    "    for tick in g.ax_heatmap.axes.yaxis.get_major_ticks():\n",
    "        tick.label.set_fontsize(2) \n",
    "        tick.label.set_rotation('horizontal')\n",
    "\n",
    "    g.ax_heatmap.axes.set_yticklabels(\n",
    "        get_ylabels(\n",
    "            name=feat[-4:],\n",
    "            num=len(g.ax_heatmap.axes.yaxis.get_major_ticks())\n",
    "        )\n",
    "    )\n",
    "        \n",
    "    # g.savefig(os.path.join(RESULTS_FOLDER, f\"{feat}-clustermap.png\"))"
   ]
  },
  {
   "cell_type": "code",
   "execution_count": 25,
   "metadata": {},
   "outputs": [],
   "source": [
    "Z = g.dendrogram_col.linkage"
   ]
  },
  {
   "cell_type": "code",
   "execution_count": 36,
   "metadata": {},
   "outputs": [
    {
     "name": "stdout",
     "output_type": "stream",
     "text": [
      "2\n",
      "[1 2 2 1 2 1 2 2 2 2 2 2 2 2 2 2 2 2 2 2 1 1 2 1 2 1 1 1 1 2 1 1 1 1 1 1 1\n",
      " 1 2 2 1 1 1 1 2 1 1 1 2 2 1 1 1 2 2 2 1 1 1 1 2 1 1 1 1 1 1 1 1 1 1 1 1 1\n",
      " 1 1 1 2 2 2 2 2 2 2 2 2 2 2 2 1 2 1 1 1 1 1 1 1 1 1 1 2 1 1 1 1 1 1 1 1 1\n",
      " 1 1 1 1 1 1 1 1 1 1 2]\n"
     ]
    }
   ],
   "source": [
    "fc = sc.hierarchy.fcluster(Z, t=10, criterion='distance')\n",
    "print(len(set(fc)))\n",
    "print(fc)"
   ]
  },
  {
   "cell_type": "code",
   "execution_count": null,
   "metadata": {},
   "outputs": [],
   "source": []
  }
 ],
 "metadata": {
  "kernelspec": {
   "display_name": "Python 3",
   "language": "python",
   "name": "python3"
  },
  "language_info": {
   "codemirror_mode": {
    "name": "ipython",
    "version": 3
   },
   "file_extension": ".py",
   "mimetype": "text/x-python",
   "name": "python",
   "nbconvert_exporter": "python",
   "pygments_lexer": "ipython3",
   "version": "3.8.2"
  }
 },
 "nbformat": 4,
 "nbformat_minor": 4
}
