{
 "cells": [
  {
   "cell_type": "code",
   "execution_count": 1,
   "metadata": {},
   "outputs": [
    {
     "data": {
      "application/javascript": [
       "IPython.OutputArea.prototype._should_scroll = function(lines) {\n",
       "    return false;\n",
       "}\n"
      ],
      "text/plain": [
       "<IPython.core.display.Javascript object>"
      ]
     },
     "metadata": {},
     "output_type": "display_data"
    }
   ],
   "source": [
    "%%javascript\n",
    "IPython.OutputArea.prototype._should_scroll = function(lines) {\n",
    "    return false;\n",
    "}"
   ]
  },
  {
   "cell_type": "code",
   "execution_count": 50,
   "metadata": {},
   "outputs": [],
   "source": [
    "import os\n",
    "import pandas as pd\n",
    "\n",
    "import seaborn as sns\n",
    "import matplotlib.pyplot as plt\n",
    "\n",
    "from audiovocana.color import COLORS\n",
    "\n",
    "YEAR = 17\n",
    "CLUSTERS = range(8, 9)\n",
    "MOTHERS = ['E', 'U']\n",
    "FILTERS = {'vocalization': 1, 'year': 17}\n",
    "RESULTS_FOLDER = \"/home/utilisateur/Desktop/palomars/usv-experiments/full-dataset/results\"\n",
    "RESULTS_FOLDER = os.path.join(\n",
    "    RESULTS_FOLDER,\n",
    "    '_'.join([f\"{k}:{v}\" for k, v in FILTERS.items()]),\n",
    "    'clustering',\n",
    "    'cluster_assigns'\n",
    ")\n",
    "CSV_PATH = os.path.join(RESULTS_FOLDER, \"mean_stft-ward-euclidean.csv\")"
   ]
  },
  {
   "cell_type": "code",
   "execution_count": 51,
   "metadata": {},
   "outputs": [],
   "source": [
    "for c in CLUSTERS:\n",
    "    os.makedirs(os.path.join(RESULTS_FOLDER, 'counts', f'clust{c}'), exist_ok=True)"
   ]
  },
  {
   "cell_type": "code",
   "execution_count": 52,
   "metadata": {},
   "outputs": [
    {
     "data": {
      "text/html": [
       "<div>\n",
       "<style scoped>\n",
       "    .dataframe tbody tr th:only-of-type {\n",
       "        vertical-align: middle;\n",
       "    }\n",
       "\n",
       "    .dataframe tbody tr th {\n",
       "        vertical-align: top;\n",
       "    }\n",
       "\n",
       "    .dataframe thead th {\n",
       "        text-align: right;\n",
       "    }\n",
       "</style>\n",
       "<table border=\"1\" class=\"dataframe\">\n",
       "  <thead>\n",
       "    <tr style=\"text-align: right;\">\n",
       "      <th></th>\n",
       "      <th>vocalization</th>\n",
       "      <th>mother</th>\n",
       "      <th>year</th>\n",
       "      <th>nest</th>\n",
       "      <th>postnatalday</th>\n",
       "      <th>event</th>\n",
       "      <th>recording</th>\n",
       "      <th>clust2</th>\n",
       "      <th>clust3</th>\n",
       "      <th>clust4</th>\n",
       "      <th>clust5</th>\n",
       "      <th>clust6</th>\n",
       "      <th>clust7</th>\n",
       "      <th>clust8</th>\n",
       "    </tr>\n",
       "  </thead>\n",
       "  <tbody>\n",
       "    <tr>\n",
       "      <th>0</th>\n",
       "      <td>1</td>\n",
       "      <td>U</td>\n",
       "      <td>17</td>\n",
       "      <td>b'U4'</td>\n",
       "      <td>5</td>\n",
       "      <td>3</td>\n",
       "      <td>866</td>\n",
       "      <td>1</td>\n",
       "      <td>1</td>\n",
       "      <td>2</td>\n",
       "      <td>2</td>\n",
       "      <td>3</td>\n",
       "      <td>4</td>\n",
       "      <td>4</td>\n",
       "    </tr>\n",
       "    <tr>\n",
       "      <th>1</th>\n",
       "      <td>1</td>\n",
       "      <td>U</td>\n",
       "      <td>17</td>\n",
       "      <td>b'U4'</td>\n",
       "      <td>5</td>\n",
       "      <td>6</td>\n",
       "      <td>866</td>\n",
       "      <td>1</td>\n",
       "      <td>1</td>\n",
       "      <td>2</td>\n",
       "      <td>2</td>\n",
       "      <td>3</td>\n",
       "      <td>4</td>\n",
       "      <td>4</td>\n",
       "    </tr>\n",
       "    <tr>\n",
       "      <th>2</th>\n",
       "      <td>1</td>\n",
       "      <td>U</td>\n",
       "      <td>17</td>\n",
       "      <td>b'U4'</td>\n",
       "      <td>5</td>\n",
       "      <td>5</td>\n",
       "      <td>866</td>\n",
       "      <td>1</td>\n",
       "      <td>1</td>\n",
       "      <td>2</td>\n",
       "      <td>2</td>\n",
       "      <td>3</td>\n",
       "      <td>4</td>\n",
       "      <td>4</td>\n",
       "    </tr>\n",
       "    <tr>\n",
       "      <th>3</th>\n",
       "      <td>1</td>\n",
       "      <td>U</td>\n",
       "      <td>17</td>\n",
       "      <td>b'U4'</td>\n",
       "      <td>5</td>\n",
       "      <td>10</td>\n",
       "      <td>866</td>\n",
       "      <td>1</td>\n",
       "      <td>1</td>\n",
       "      <td>2</td>\n",
       "      <td>2</td>\n",
       "      <td>3</td>\n",
       "      <td>4</td>\n",
       "      <td>4</td>\n",
       "    </tr>\n",
       "    <tr>\n",
       "      <th>4</th>\n",
       "      <td>1</td>\n",
       "      <td>U</td>\n",
       "      <td>17</td>\n",
       "      <td>b'U4'</td>\n",
       "      <td>5</td>\n",
       "      <td>9</td>\n",
       "      <td>866</td>\n",
       "      <td>1</td>\n",
       "      <td>1</td>\n",
       "      <td>2</td>\n",
       "      <td>2</td>\n",
       "      <td>2</td>\n",
       "      <td>3</td>\n",
       "      <td>3</td>\n",
       "    </tr>\n",
       "  </tbody>\n",
       "</table>\n",
       "</div>"
      ],
      "text/plain": [
       "   vocalization mother  year   nest  postnatalday  event  recording  clust2  \\\n",
       "0             1      U    17  b'U4'             5      3        866       1   \n",
       "1             1      U    17  b'U4'             5      6        866       1   \n",
       "2             1      U    17  b'U4'             5      5        866       1   \n",
       "3             1      U    17  b'U4'             5     10        866       1   \n",
       "4             1      U    17  b'U4'             5      9        866       1   \n",
       "\n",
       "   clust3  clust4  clust5  clust6  clust7  clust8  \n",
       "0       1       2       2       3       4       4  \n",
       "1       1       2       2       3       4       4  \n",
       "2       1       2       2       3       4       4  \n",
       "3       1       2       2       3       4       4  \n",
       "4       1       2       2       2       3       3  "
      ]
     },
     "execution_count": 52,
     "metadata": {},
     "output_type": "execute_result"
    }
   ],
   "source": [
    "df = pd.read_csv(CSV_PATH)\n",
    "df = df.assign(mother=df.mother.apply(lambda m: m[2]))\n",
    "df.head()"
   ]
  },
  {
   "cell_type": "code",
   "execution_count": 73,
   "metadata": {},
   "outputs": [
    {
     "data": {
      "image/png": "[encoded data removed]",
      "text/plain": [
       "<Figure size 937.125x432 with 1 Axes>"
      ]
     },
     "metadata": {
      "needs_background": "light"
     },
     "output_type": "display_data"
    }
   ],
   "source": [
    "for c in CLUSTERS:\n",
    "        tmp = df[['postnatalday', f\"clust{c}\", \"event\"]]\n",
    "        tmp = tmp.groupby(['postnatalday', f\"clust{c}\"]).count()\n",
    "        tmp.reset_index(inplace=True)\n",
    "        tmp.rename({'event': 'counts', f\"clust{c}\": \"cluster_number\"}, axis=1, inplace=True)\n",
    "        tmp.to_csv(os.path.join(RESULTS_FOLDER, 'counts',  f'clust{c}', f'counts:clust{c}.csv'), index=False)\n",
    "        \n",
    "        g = sns.catplot(x=\"cluster_number\", y=\"counts\", hue=\"postnatalday\", data=tmp,\n",
    "                height=6, aspect=2, kind=\"bar\", palette=COLORS[\"postnatalday\"])\n",
    "        plt.title(f'{c} clusters clustering - YEAR {YEAR}')"
   ]
  },
  {
   "cell_type": "code",
   "execution_count": 72,
   "metadata": {},
   "outputs": [
    {
     "data": {
      "image/png": "[encoded data removed]",
      "text/plain": [
       "<Figure size 937.125x432 with 1 Axes>"
      ]
     },
     "metadata": {
      "needs_background": "light"
     },
     "output_type": "display_data"
    },
    {
     "data": {
      "image/png": "[encoded data removed]",
      "text/plain": [
       "<Figure size 937.125x432 with 1 Axes>"
      ]
     },
     "metadata": {
      "needs_background": "light"
     },
     "output_type": "display_data"
    }
   ],
   "source": [
    "for c in CLUSTERS:\n",
    "    for m in MOTHERS:\n",
    "        tmp = df[['mother', 'postnatalday', f\"clust{c}\", \"event\"]]\n",
    "        tmp = tmp[tmp.mother == m].drop('mother', axis=1)\n",
    "\n",
    "        tmp = tmp.groupby(['postnatalday', f\"clust{c}\"]).count()\n",
    "        tmp.reset_index(inplace=True)\n",
    "        tmp.rename({'event': 'counts', f\"clust{c}\": \"cluster_number\"}, axis=1, inplace=True)\n",
    "        tmp.to_csv(os.path.join(RESULTS_FOLDER, 'counts',  f'clust{c}', f'counts-mother:{m}_clust{c}.csv'), index=False)\n",
    "        \n",
    "        g = sns.catplot(x=\"cluster_number\", y=\"counts\", hue=\"postnatalday\", data=tmp,\n",
    "                height=6, aspect=2, kind=\"bar\", palette=COLORS[\"postnatalday\"])\n",
    "        plt.title(f'MOTHER {m} - {c} clusters clustering - YEAR {YEAR}')"
   ]
  },
  {
   "cell_type": "code",
   "execution_count": null,
   "metadata": {},
   "outputs": [],
   "source": []
  }
 ],
 "metadata": {
  "kernelspec": {
   "display_name": "Python 3",
   "language": "python",
   "name": "python3"
  },
  "language_info": {
   "codemirror_mode": {
    "name": "ipython",
    "version": 3
   },
   "file_extension": ".py",
   "mimetype": "text/x-python",
   "name": "python",
   "nbconvert_exporter": "python",
   "pygments_lexer": "ipython3",
   "version": "3.8.2"
  }
 },
 "nbformat": 4,
 "nbformat_minor": 4
}
