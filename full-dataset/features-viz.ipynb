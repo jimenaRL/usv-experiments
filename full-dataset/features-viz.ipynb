{
 "cells": [
  {
   "cell_type": "code",
   "execution_count": 1,
   "metadata": {},
   "outputs": [
    {
     "data": {
      "application/javascript": [
       "IPython.OutputArea.prototype._should_scroll = function(lines) {\n",
       "    return false;\n",
       "}\n"
      ],
      "text/plain": [
       "<IPython.core.display.Javascript object>"
      ]
     },
     "metadata": {},
     "output_type": "display_data"
    }
   ],
   "source": [
    "%%javascript\n",
    "IPython.OutputArea.prototype._should_scroll = function(lines) {\n",
    "    return false;\n",
    "}"
   ]
  },
  {
   "cell_type": "code",
   "execution_count": 2,
   "metadata": {},
   "outputs": [
    {
     "name": "stderr",
     "output_type": "stream",
     "text": [
      "/home/utilisateur/anaconda3/envs/usv/lib/python3.8/site-packages/librosa/util/decorators.py:9: NumbaDeprecationWarning: An import was requested from a module that has moved location.\n",
      "Import requested from: 'numba.decorators', please update to use 'numba.core.decorators' or pin to Numba version 0.48.0. This alias will not be present in Numba version 0.50.0.\n",
      "  from numba.decorators import jit as optional_jit\n",
      "/home/utilisateur/anaconda3/envs/usv/lib/python3.8/site-packages/librosa/util/decorators.py:9: NumbaDeprecationWarning: An import was requested from a module that has moved location.\n",
      "Import of 'jit' requested from: 'numba.decorators', please update to use 'numba.core.decorators' or pin to Numba version 0.48.0. This alias will not be present in Numba version 0.50.0.\n",
      "  from numba.decorators import jit as optional_jit\n"
     ]
    },
    {
     "name": "stdout",
     "output_type": "stream",
     "text": [
      "~~~~~~ AUDIOVOCANA SETTINGS ~~~~~~\n",
      "AUDIOPARAMS \n",
      " {'sr': 250000, 'mono': True}\n",
      "STFTPARAMS \n",
      " {'n_fft': 8192, 'hop_length': 512, 'win_length': 8192, 'center': True, 'window': 'hann'}\n",
      "SPECTRALCENTROIDPARAMS \n",
      " {'sr': 250000, 'n_fft': 8192, 'hop_length': 512, 'freq': None}\n",
      "SPECTRALBANDWIDTHPARAMS \n",
      " {'sr': 250000, 'n_fft': 8192, 'hop_length': 512, 'freq': None, 'centroid': None, 'norm': True, 'p': 2}\n",
      "SPECTRALFLATNESSPARAMS \n",
      " {'n_fft': 8192, 'hop_length': 512, 'amin': 1e-10, 'power': 2.0}\n",
      "ZEROCRPARAMS \n",
      " {'frame_length': 2048, 'hop_length': 512, 'center': True}\n",
      "MELPARAMS \n",
      " {'sr': 250000, 'n_fft': 8192, 'n_mels': 128, 'fmin': 0, 'fmax': 125000.0, 'htk': True}\n",
      "MFCCPAMARS \n",
      " {'sr': 250000, 'n_mfcc': 13, 'dct_type': 2, 'norm': 'ortho', 'htk': True}\n",
      "mel fiterbank shape = (128, 4097)\n",
      "Minimun waveform length accepted is 4104 PCM points.\n",
      "Minimun audio duration accepted is 16.416 miliseconds.\n",
      "STFT time resolution = 32.768 ms.\n",
      "STFT frequency resolution = 30.5101293629485 Hz.\n"
     ]
    }
   ],
   "source": [
    "from tqdm import tqdm \n",
    "\n",
    "import numpy as np\n",
    "import pandas as pd\n",
    "\n",
    "import librosa\n",
    "import librosa.display\n",
    "\n",
    "from audiovocana.conf import *\n",
    "from audiovocana.dataset import get_dataset\n",
    "from audiovocana.preprocessing import (\n",
    "    get_dataframe,\n",
    "    get_audio_path\n",
    ")\n",
    "import audiovocana.ffmpeg_utils.ffmpeg_utils as ffmpeg\n",
    "\n",
    "import matplotlib.pyplot as plt\n",
    "import seaborn as sns"
   ]
  },
  {
   "cell_type": "code",
   "execution_count": 3,
   "metadata": {},
   "outputs": [],
   "source": [
    "hop_length = int(0.25 * 256)\n",
    "n_fft = 256\n",
    "\n",
    "FFTPLOTPARAMS = {\n",
    "    # for x axis settings\n",
    "    'sr': SR,\n",
    "    'hop_length': hop_length,\n",
    "    'x_axis': 'time',\n",
    "    # for y axis settings\n",
    "    'fmax': FMAX,\n",
    "    'y_axis': 'linear',\n",
    "    # color\n",
    "    'cmap': 'gray', #'gray', 'PuBu_r', 'RdBu',\n",
    "\n",
    "}\n",
    "\n",
    "FFTPARAMS = {\n",
    "    'n_fft': n_fft,\n",
    "    'hop_length': hop_length,\n",
    "    'win_length':  n_fft,\n",
    "    'center': True,\n",
    "    'window': 'hann'\n",
    "}\n",
    "\n",
    "\n",
    "NBFFTBINS = 1 + FFTPARAMS['n_fft'] / 2"
   ]
  },
  {
   "cell_type": "code",
   "execution_count": 4,
   "metadata": {},
   "outputs": [],
   "source": [
    "plt.style.use('ggplot')\n",
    "MARKER = '.'\n",
    "MARKERSIZE = 4\n",
    "LINESTYLE ='-'\n",
    "FONTSIZE = 12\n",
    "FIGSIZE = (12, 8 )\n",
    "\n",
    "kwargs = {'marker': MARKER, 'linestyle': 'solid', 'linewidth': 1, 'markersize': MARKERSIZE}\n",
    "\n",
    "\n",
    "FILTERS = {'vocalization': 1, 'year': 17}\n",
    "CSV_PATH = '/home/utilisateur/Desktop/palomars/data/full/dataset.csv'\n",
    "CACHE_FOLDER = '/home/utilisateur/Desktop/palomars/cache/full_dataset'\n",
    "AUDIO_FOLDER = \"/media/utilisateur/LACIE SHARE/paloma-USV-data/audio\"\n",
    "RESULTS_FOLDER = \"/home/utilisateur/Desktop/palomars/usv-experiments/full-dataset/results/vocalization:1_year:17/clustering\""
   ]
  },
  {
   "cell_type": "code",
   "execution_count": 5,
   "metadata": {},
   "outputs": [
    {
     "name": "stdout",
     "output_type": "stream",
     "text": [
      "Reading csv from /home/utilisateur/Desktop/palomars/data/full/dataset.csv.\n",
      "Found 4217 events from 46 different experiments and 132 different recordings\n"
     ]
    },
    {
     "data": {
      "text/html": [
       "<div>\n",
       "<style scoped>\n",
       "    .dataframe tbody tr th:only-of-type {\n",
       "        vertical-align: middle;\n",
       "    }\n",
       "\n",
       "    .dataframe tbody tr th {\n",
       "        vertical-align: top;\n",
       "    }\n",
       "\n",
       "    .dataframe thead th {\n",
       "        text-align: right;\n",
       "    }\n",
       "</style>\n",
       "<table border=\"1\" class=\"dataframe\">\n",
       "  <thead>\n",
       "    <tr style=\"text-align: right;\">\n",
       "      <th></th>\n",
       "      <th>t0</th>\n",
       "      <th>t1</th>\n",
       "      <th>duration</th>\n",
       "      <th>event</th>\n",
       "      <th>postnatalday</th>\n",
       "      <th>vocalization</th>\n",
       "      <th>nest</th>\n",
       "      <th>year</th>\n",
       "      <th>audio_path</th>\n",
       "      <th>experiment</th>\n",
       "      <th>recording</th>\n",
       "      <th>mother</th>\n",
       "    </tr>\n",
       "  </thead>\n",
       "  <tbody>\n",
       "    <tr>\n",
       "      <th>0</th>\n",
       "      <td>12.5711</td>\n",
       "      <td>12.6146</td>\n",
       "      <td>0.0435</td>\n",
       "      <td>1</td>\n",
       "      <td>1</td>\n",
       "      <td>1</td>\n",
       "      <td>E3</td>\n",
       "      <td>19</td>\n",
       "      <td>/media/utilisateur/LACIE SHARE/paloma-USV-data...</td>\n",
       "      <td>19N3EP1</td>\n",
       "      <td>62</td>\n",
       "      <td>E</td>\n",
       "    </tr>\n",
       "    <tr>\n",
       "      <th>1</th>\n",
       "      <td>12.7518</td>\n",
       "      <td>12.8204</td>\n",
       "      <td>0.0686</td>\n",
       "      <td>2</td>\n",
       "      <td>1</td>\n",
       "      <td>2</td>\n",
       "      <td>E3</td>\n",
       "      <td>19</td>\n",
       "      <td>/media/utilisateur/LACIE SHARE/paloma-USV-data...</td>\n",
       "      <td>19N3EP1</td>\n",
       "      <td>62</td>\n",
       "      <td>E</td>\n",
       "    </tr>\n",
       "    <tr>\n",
       "      <th>2</th>\n",
       "      <td>13.0119</td>\n",
       "      <td>13.0539</td>\n",
       "      <td>0.0420</td>\n",
       "      <td>3</td>\n",
       "      <td>1</td>\n",
       "      <td>2</td>\n",
       "      <td>E3</td>\n",
       "      <td>19</td>\n",
       "      <td>/media/utilisateur/LACIE SHARE/paloma-USV-data...</td>\n",
       "      <td>19N3EP1</td>\n",
       "      <td>62</td>\n",
       "      <td>E</td>\n",
       "    </tr>\n",
       "    <tr>\n",
       "      <th>3</th>\n",
       "      <td>13.1061</td>\n",
       "      <td>13.1425</td>\n",
       "      <td>0.0364</td>\n",
       "      <td>4</td>\n",
       "      <td>1</td>\n",
       "      <td>2</td>\n",
       "      <td>E3</td>\n",
       "      <td>19</td>\n",
       "      <td>/media/utilisateur/LACIE SHARE/paloma-USV-data...</td>\n",
       "      <td>19N3EP1</td>\n",
       "      <td>62</td>\n",
       "      <td>E</td>\n",
       "    </tr>\n",
       "    <tr>\n",
       "      <th>4</th>\n",
       "      <td>13.6437</td>\n",
       "      <td>13.6627</td>\n",
       "      <td>0.0190</td>\n",
       "      <td>5</td>\n",
       "      <td>1</td>\n",
       "      <td>2</td>\n",
       "      <td>E3</td>\n",
       "      <td>19</td>\n",
       "      <td>/media/utilisateur/LACIE SHARE/paloma-USV-data...</td>\n",
       "      <td>19N3EP1</td>\n",
       "      <td>62</td>\n",
       "      <td>E</td>\n",
       "    </tr>\n",
       "  </tbody>\n",
       "</table>\n",
       "</div>"
      ],
      "text/plain": [
       "        t0       t1  duration  event  postnatalday  vocalization nest  year  \\\n",
       "0  12.5711  12.6146    0.0435      1             1             1   E3    19   \n",
       "1  12.7518  12.8204    0.0686      2             1             2   E3    19   \n",
       "2  13.0119  13.0539    0.0420      3             1             2   E3    19   \n",
       "3  13.1061  13.1425    0.0364      4             1             2   E3    19   \n",
       "4  13.6437  13.6627    0.0190      5             1             2   E3    19   \n",
       "\n",
       "                                          audio_path experiment  recording  \\\n",
       "0  /media/utilisateur/LACIE SHARE/paloma-USV-data...    19N3EP1         62   \n",
       "1  /media/utilisateur/LACIE SHARE/paloma-USV-data...    19N3EP1         62   \n",
       "2  /media/utilisateur/LACIE SHARE/paloma-USV-data...    19N3EP1         62   \n",
       "3  /media/utilisateur/LACIE SHARE/paloma-USV-data...    19N3EP1         62   \n",
       "4  /media/utilisateur/LACIE SHARE/paloma-USV-data...    19N3EP1         62   \n",
       "\n",
       "  mother  \n",
       "0      E  \n",
       "1      E  \n",
       "2      E  \n",
       "3      E  \n",
       "4      E  "
      ]
     },
     "execution_count": 5,
     "metadata": {},
     "output_type": "execute_result"
    }
   ],
   "source": [
    "df = get_dataframe(csv_path=CSV_PATH)\n",
    "df.head()"
   ]
  },
  {
   "cell_type": "markdown",
   "metadata": {},
   "source": [
    "**Retrieve Clustering**"
   ]
  },
  {
   "cell_type": "code",
   "execution_count": 6,
   "metadata": {},
   "outputs": [],
   "source": [
    "tmp = pd.read_csv(os.path.join(RESULTS_FOLDER, \"cluster_assigns/mean_stft-ward-euclidean.csv\"))\n",
    "tmp = tmp.assign(\n",
    "    nest=tmp.nest.apply(lambda s: s.split(\"'\")[1]),\n",
    "    mother=tmp.mother.apply(lambda s: s.split(\"'\")[1])\n",
    ")\n",
    "\n",
    "MERGE_COLUMNS = ['mother', 'vocalization', 'year', 'nest', 'postnatalday', 'event', 'recording']\n",
    "clustering = pd.merge(tmp, df, on=MERGE_COLUMNS, how='inner')"
   ]
  },
  {
   "cell_type": "code",
   "execution_count": 7,
   "metadata": {},
   "outputs": [],
   "source": [
    "rows = [r for idx, r in clustering.iterrows()]"
   ]
  },
  {
   "cell_type": "markdown",
   "metadata": {},
   "source": [
    "**Compute spectrogram**"
   ]
  },
  {
   "cell_type": "code",
   "execution_count": 8,
   "metadata": {},
   "outputs": [
    {
     "name": "stderr",
     "output_type": "stream",
     "text": [
      "100%|██████████| 437/437 [06:30<00:00,  1.12it/s]\n"
     ]
    }
   ],
   "source": [
    "for row in tqdm(rows[500: ]):\n",
    "\n",
    "    y, sr = ffmpeg.load_audio_file(\n",
    "                audio_filename=row.audio_path,\n",
    "                start_second=row.t0 - 0.02,\n",
    "                duration_second=row.duration + 0.02\n",
    "    )\n",
    "\n",
    "    D = np.abs(librosa.stft(y.flatten(), **FFTPARAMS))\n",
    "    fig = plt.figure(figsize=(10, 6))                         \n",
    "    librosa.display.specshow(librosa.power_to_db(D, ref=np.max), **FFTPLOTPARAMS)\n",
    "    plt.colorbar(format='%+2.0f dB')\n",
    "    plt.title(f'Experiment {row.experiment} - Recording {row.recording} - Event {row.event}')\n",
    "    plt.tight_layout()\n",
    "    \n",
    "    figname = f\"{row.experiment}_r{row.recording}_e{row.event}.png\"\n",
    "    for n in range(2, 9):\n",
    "        fig.savefig(os.path.join(RESULTS_FOLDER, \"fft_images\", f\"clust{n}\", str(row[f'clust{n}']), figname))\n",
    "    \n",
    "    plt.close(fig)"
   ]
  },
  {
   "cell_type": "code",
   "execution_count": 9,
   "metadata": {},
   "outputs": [
    {
     "name": "stdout",
     "output_type": "stream",
     "text": [
      "FIN ! \n"
     ]
    }
   ],
   "source": [
    "print(\"FIN ! \")"
   ]
  },
  {
   "cell_type": "code",
   "execution_count": null,
   "metadata": {},
   "outputs": [],
   "source": []
  }
 ],
 "metadata": {
  "kernelspec": {
   "display_name": "Python 3",
   "language": "python",
   "name": "python3"
  },
  "language_info": {
   "codemirror_mode": {
    "name": "ipython",
    "version": 3
   },
   "file_extension": ".py",
   "mimetype": "text/x-python",
   "name": "python",
   "nbconvert_exporter": "python",
   "pygments_lexer": "ipython3",
   "version": "3.8.2"
  }
 },
 "nbformat": 4,
 "nbformat_minor": 2
}
