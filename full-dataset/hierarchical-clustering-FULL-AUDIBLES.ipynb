{
 "cells": [
  {
   "cell_type": "code",
   "execution_count": 20,
   "metadata": {},
   "outputs": [
    {
     "data": {
      "application/javascript": [
       "IPython.OutputArea.prototype._should_scroll = function(lines) {\n",
       "    return false;\n",
       "}\n"
      ],
      "text/plain": [
       "<IPython.core.display.Javascript object>"
      ]
     },
     "metadata": {},
     "output_type": "display_data"
    }
   ],
   "source": [
    "%%javascript\n",
    "IPython.OutputArea.prototype._should_scroll = function(lines) {\n",
    "    return false;\n",
    "}"
   ]
  },
  {
   "cell_type": "code",
   "execution_count": 21,
   "metadata": {},
   "outputs": [],
   "source": [
    "import os\n",
    "from tqdm import tqdm\n",
    "\n",
    "import numpy as np\n",
    "import pandas as pd\n",
    "import scipy.cluster as sc\n",
    "from sklearn.metrics import (\n",
    "    davies_bouldin_score,\n",
    "    calinski_harabasz_score,\n",
    "    silhouette_score\n",
    ")\n",
    "\n",
    "from audiovocana.conf import (FFTFREQS, MELFREQS)\n",
    " from audiovocana.dataset import get_dataset\n",
    "\n",
    "import matplotlib.pyplot as plt\n",
    "import seaborn as sns\n",
    "sns.set_style('white')"
   ]
  },
  {
   "cell_type": "code",
   "execution_count": 22,
   "metadata": {},
   "outputs": [],
   "source": [
    "PLOT = True\n",
    "\n",
    "MAX_NB_CLUTERS = 8\n",
    "\n",
    "FILTERS = {'vocalization': 1, 'year': 17}\n",
    "FEATS = ['mean_stft']  #  ['max_mfcc', 'mean_mfcc', 'mean_stft', 'max_stft', 'mean_mel', 'max_mel']\n",
    "\n",
    "AFFINITIES = [\"euclidean\"]  # [\"euclidean\", \"cosine\",  \"sqeuclidean\", \"cityblock\"]\n",
    "LINKAGES = [\"ward\"]  # [\"complete\", \"average\", \"single\"] # [\"ward\"]\n",
    "\n",
    "CSV_PATH = '/home/utilisateur/Desktop/palomars/data/full/dataset.csv'\n",
    "CACHE_FOLDER = '/home/utilisateur/Desktop/palomars/cache/full_dataset'\n",
    "RESULTS_FOLDER = \"/home/utilisateur/Desktop/palomars/usv-experiments/full-dataset/results\"\n",
    "RESULTS_FOLDER = os.path.join(\n",
    "    RESULTS_FOLDER,\n",
    "    '_'.join([f\"{k}:{v}\" for k, v in FILTERS.items()]),\n",
    "    'clustering'\n",
    ")"
   ]
  },
  {
   "cell_type": "markdown",
   "metadata": {},
   "source": [
    "# Get dataset"
   ]
  },
  {
   "cell_type": "code",
   "execution_count": 23,
   "metadata": {},
   "outputs": [
    {
     "name": "stdout",
     "output_type": "stream",
     "text": [
      "Reading csv from /home/utilisateur/Desktop/palomars/data/full/dataset.csv.\n",
      "Found 4217 events from 46 different experiments and 132 different recordings\n"
     ]
    }
   ],
   "source": [
    "dataset = get_dataset(\n",
    "    csv_path=CSV_PATH,\n",
    "    cache_folder=CACHE_FOLDER,\n",
    "    #filters=FILTERS\n",
    ")"
   ]
  },
  {
   "cell_type": "markdown",
   "metadata": {},
   "source": [
    "# Apply filters"
   ]
  },
  {
   "cell_type": "code",
   "execution_count": 24,
   "metadata": {},
   "outputs": [],
   "source": [
    "dataset = dataset.filter(lambda sample: sample['year'] == FILTERS['year'])\n",
    "dataset = dataset.filter(lambda sample: sample['vocalization'] == FILTERS['vocalization'])"
   ]
  },
  {
   "cell_type": "markdown",
   "metadata": {},
   "source": [
    "# Retrieve metadata and features"
   ]
  },
  {
   "cell_type": "code",
   "execution_count": 25,
   "metadata": {},
   "outputs": [],
   "source": [
    "metadata = pd.DataFrame.from_records([\n",
    "    {k: sample[k].numpy() for k in  ['vocalization', 'mother', 'year', 'nest', 'postnatalday',  'event', 'recording']}\n",
    "    for sample in dataset\n",
    "])\n",
    "\n",
    "\n",
    "feats = {feat: [] for feat in FEATS}\n",
    "for sample in dataset:\n",
    "    for feat in FEATS:\n",
    "        feats[feat].append(sample[feat].numpy())\n",
    "\n",
    "feats = {k: np.array(v).T for k, v in feats.items()}"
   ]
  },
  {
   "cell_type": "markdown",
   "metadata": {},
   "source": [
    "# Set colors"
   ]
  },
  {
   "cell_type": "code",
   "execution_count": 26,
   "metadata": {},
   "outputs": [],
   "source": [
    "keys_colors = ['vocalization', 'mother',  'postnatalday', 'nest',  'recording']\n",
    "\n",
    "COLORS['recording'] =  dict(zip(\n",
    "        set(metadata['recording']),\n",
    "        sns.light_palette(COLORS['year'][FILTERS['year']], len(set(metadata['recording'])))))\n",
    "\n",
    "colors = pd.concat([metadata[k].map(COLORS[k]) for k in keys_colors], axis=1)\n",
    "colors.columns = keys_colors"
   ]
  },
  {
   "cell_type": "code",
   "execution_count": 27,
   "metadata": {},
   "outputs": [],
   "source": [
    "def get_ylabels(name, num):\n",
    "    if name == 'stft':\n",
    "        return [str(i)+' Hz' for i in np.linspace(FFTFREQS[0], FFTFREQS[-1], num=num, dtype=np.int)]\n",
    "    elif name == '_mel':\n",
    "        return [str(i)+' Hz' for i in np.linspace(MELFREQS[0], MELFREQS[-1], num=num, dtype=np.int)]\n",
    "    elif name == 'mfcc':\n",
    "        return np.linspace(0, num, num=num, dtype=np.int)\n"
   ]
  },
  {
   "cell_type": "markdown",
   "metadata": {},
   "source": [
    "# Hiercharchical clustering"
   ]
  },
  {
   "cell_type": "code",
   "execution_count": 28,
   "metadata": {},
   "outputs": [],
   "source": [
    "def hcluster(X, max_clusters, method, metric, colors, feat):\n",
    "    \n",
    "    cluster_assigns = {}\n",
    "\n",
    "    g = sns.clustermap(\n",
    "        pd.DataFrame(X),\n",
    "        method=method,\n",
    "        metric=metric,\n",
    "        standard_scale=None, # Max-0 scaling. Either 0 (rows) or 1 (columns) or None\n",
    "        z_score=0, # Whitening. Either 0 (by rows) or 1 (by columns) or None\n",
    "        row_cluster=False,\n",
    "        col_colors=colors,\n",
    "        center=None, # check what this is, looks different with 0\n",
    "        figsize=(16, 8),\n",
    "        cbar_pos=None,\n",
    "        xticklabels=1,\n",
    "        yticklabels='auto'\n",
    "    )\n",
    "\n",
    "    plt.close('all')\n",
    "\n",
    "    # linkage matrix\n",
    "    Z = g.dendrogram_col.linkage\n",
    "    for n in range(2, max_clusters+1):\n",
    "        n_assigs = sc.hierarchy.fcluster(Z, t=n, criterion='maxclust')\n",
    "        cluster_assigns[n] = n_assigs\n",
    "        clusters = range(1, n+1)\n",
    "        dicc_clusters =  dict(zip(\n",
    "            clusters,\n",
    "            sns.color_palette(\"cubehelix\", n)))\n",
    "        colors_clusters = pd.DataFrame(n_assigs)[0].map(dicc_clusters)\n",
    "\n",
    "        tmp_colors = [f'{n}-clusters-labels'] + colors.columns.tolist()\n",
    "        colors = pd.concat([colors_clusters, colors], axis=1)\n",
    "        colors.columns = tmp_colors\n",
    "\n",
    "    g = sns.clustermap(\n",
    "        pd.DataFrame(X),\n",
    "        method=method,\n",
    "        metric=metric,\n",
    "        standard_scale=None, # Max-0 scaling. Either 0 (rows) or 1 (columns) or None\n",
    "        z_score=0, # Whitening. Either 0 (by rows) or 1 (by columns) or None\n",
    "        row_cluster=False,\n",
    "        col_colors=colors,\n",
    "        center=None, # check what this is, looks different with 0\n",
    "        figsize=(16, 8),\n",
    "        cbar_pos=None,\n",
    "        xticklabels=1,\n",
    "        yticklabels='auto')\n",
    "       \n",
    "    for tick in g.ax_heatmap.axes.xaxis.get_major_ticks():\n",
    "        tick.label.set_fontsize(8) \n",
    "        tick.label.set_rotation('vertical')\n",
    "        \n",
    "             \n",
    "    for tick in g.ax_heatmap.axes.yaxis.get_major_ticks():\n",
    "        tick.label.set_fontsize(2) \n",
    "        tick.label.set_rotation('horizontal')\n",
    "\n",
    "    g.ax_heatmap.axes.set_yticklabels(\n",
    "        get_ylabels(\n",
    "            name=feat[-4:],\n",
    "            num=len(g.ax_heatmap.axes.yaxis.get_major_ticks())\n",
    "        )\n",
    "    )\n",
    "    \n",
    "    return g, cluster_assigns"
   ]
  },
  {
   "cell_type": "code",
   "execution_count": null,
   "metadata": {},
   "outputs": [
    {
     "name": "stdout",
     "output_type": "stream",
     "text": [
      "mean_stft-ward-euclidean\n"
     ]
    }
   ],
   "source": [
    "for feat in FEATS:\n",
    "    for linkage in LINKAGES:\n",
    "        for metric in AFFINITIES:\n",
    "\n",
    "            title = f\"{feat}-{linkage}-{metric}\"\n",
    "            print(title)\n",
    "            \n",
    "            X = feats[feat]\n",
    "            g, cluster_assigns = hcluster(X, MAX_NB_CLUTERS, linkage, metric, colors, feat)\n",
    "            \n",
    "            g.savefig(os.path.join(RESULTS_FOLDER, \"clustermap\", f\"{title}.png\"))\n",
    "            metadata.assign(**{f\"clust{k}\": v for k,v in cluster_assigns.items()}).to_csv(\n",
    "                os.path.join(RESULTS_FOLDER, \"cluster_assigns\", f\"{title}.csv\"), index=False)\n",
    "            \n",
    "            results = []\n",
    "            for n in range(2, MAX_NB_CLUTERS+1):\n",
    "                results.append({\n",
    "                    \"n\": n,\n",
    "                    \"Calinski-Harabasz score\": calinski_harabasz_score(X.T, cluster_assigns[n]),\n",
    "                    \"Davies-Bouldin score\": davies_bouldin_score(X.T, cluster_assigns[n]),\n",
    "                    \"Silhouette Coefficient\": silhouette_score(X.T, cluster_assigns[n]),\n",
    "            })\n",
    "            results = pd.DataFrame.from_records(results)\n",
    "\n",
    "            f, axes = plt.subplots(1, 3, figsize=(16, 6))\n",
    "            sns.lineplot(x='n', y='Silhouette Coefficient', data=results, marker='p', ax=axes[0])\n",
    "            sns.lineplot(x='n', y='Calinski-Harabasz score', data=results, marker='p', ax=axes[1])\n",
    "            sns.lineplot(x='n', y='Davies-Bouldin score', data=results, marker='p', ax=axes[2])\n",
    "\n",
    "            results.to_csv(\n",
    "                os.path.join(RESULTS_FOLDER, \"cluster_metrics\", f\"{title}.csv\"), index=False)"
   ]
  },
  {
   "cell_type": "code",
   "execution_count": null,
   "metadata": {},
   "outputs": [],
   "source": []
  }
 ],
 "metadata": {
  "kernelspec": {
   "display_name": "Python 3",
   "language": "python",
   "name": "python3"
  },
  "language_info": {
   "codemirror_mode": {
    "name": "ipython",
    "version": 3
   },
   "file_extension": ".py",
   "mimetype": "text/x-python",
   "name": "python",
   "nbconvert_exporter": "python",
   "pygments_lexer": "ipython3",
   "version": "3.8.2"
  }
 },
 "nbformat": 4,
 "nbformat_minor": 4
}
